{
  "cells": [
    {
      "cell_type": "markdown",
      "metadata": {
        "id": "zRBQRo4bksjx"
      },
      "source": [
        "![alt text](https://upload.wikimedia.org/wikipedia/commons/thumb/9/96/Pytorch_logo.png/800px-Pytorch_logo.png)"
      ]
    },
    {
      "cell_type": "markdown",
      "metadata": {
        "id": "gP4_Tyj4ksjy"
      },
      "source": [
        "<h1>Pytorch Basics</h1>"
      ]
    },
    {
      "cell_type": "markdown",
      "metadata": {
        "id": "ikGGgvzzksjy"
      },
      "source": [
        "<h2>Introduction</h2>\n",
        "As we've seen we can use numpy to create single layer neural networks by calculating the gradients by hand and hard coding them and training them via GD. But what if we want to create larger and more complicated networks? What if we want to use complicated and fancy loss functions or use huge datasets and train with more complicated training regimes?! And what about training on GPUs.......<br>\n",
        "That's a lot to try and work out EVERY time we want to try something new!! Lucky for us there are a number of Deep learning frameworks that can do much of the heavy lifting for us!<br>\n",
        "For this unit we will be using Pytorch, a hugely powerful and widely used Deep Learning framework that lets us do all of the above and MORE"
      ]
    },
    {
      "cell_type": "markdown",
      "metadata": {
        "id": "rViW-uzAksjy"
      },
      "source": [
        "<h3> Importing the required libraries </h3>\n",
        "Pytorch has two main modules, torch and torchvision<br>\n",
        "torch contains most of the Deep Learning functionalities while torchvision contains many computer vision functions designed to work in hand with torch"
      ]
    },
    {
      "cell_type": "code",
      "execution_count": 125,
      "metadata": {
        "id": "OpqPzU0Wksjy"
      },
      "outputs": [],
      "source": [
        "import torch\n",
        "import torchvision\n",
        "import torch.nn as nn\n",
        "import numpy as np\n",
        "import matplotlib.pyplot as plt"
      ]
    },
    {
      "cell_type": "markdown",
      "metadata": {
        "id": "cr6lVq7Rksjz"
      },
      "source": [
        "<h3> The Pytorch Tensor </h3>\n",
        "As we've already explored the \"Tensor\" is a useful concept and is very useful in Machine Learning, however you probably noticed in Numpy that our \"Tensors\" are called \"Arrays\", but now we are in Pytorch this is no more!!<br>\n",
        "Let's do a recap of Numpy arrays and how similar they are to Pytorch tensors."
      ]
    },
    {
      "cell_type": "code",
      "execution_count": 126,
      "metadata": {
        "id": "1D81mBfiksjz"
      },
      "outputs": [],
      "source": [
        "# Create some \"Matrices\" as lists of lists\n",
        "\n",
        "# 3x3\n",
        "W = [[1, 1, 1],\n",
        "     [1.5, 1.5, 1.5],\n",
        "     [2, 2, 2]]\n",
        "\n",
        "# 3x1\n",
        "x = [[6], [7], [8]]\n",
        "# 3x1\n",
        "b = [[1], [1], [1]]\n",
        "\n",
        "# Variable to store output\n",
        "# 3x1\n",
        "y = [[0], [0], [0]]"
      ]
    },
    {
      "cell_type": "markdown",
      "metadata": {
        "id": "D7EXRKsxksjz"
      },
      "source": [
        "As we've seen before"
      ]
    },
    {
      "cell_type": "code",
      "execution_count": 127,
      "metadata": {
        "id": "C7-4RYx2ksjz",
        "outputId": "ab640ba0-fb9e-422f-de4e-895079f4b3c8",
        "colab": {
          "base_uri": "https://localhost:8080/"
        }
      },
      "outputs": [
        {
          "output_type": "stream",
          "name": "stdout",
          "text": [
            "Output:\n",
            " [[22. ]\n",
            " [32.5]\n",
            " [43. ]]\n",
            "Output shape:\n",
            " (3, 1)\n"
          ]
        }
      ],
      "source": [
        "# We can transform our list of lists into a \"numpy array\" by using the function \"array\"\n",
        "W_np = np.array(W)\n",
        "\n",
        "x_np = np.array(x)\n",
        "\n",
        "# Lets use the function \"ones\" to create an array of ones!\n",
        "b_np = np.ones((3, 1))\n",
        "\n",
        "# Lets now compute Wx + b using these numpy variables!\n",
        "output = np.matmul(W_np, x_np) + b_np\n",
        "\n",
        "# Print out the result\n",
        "print(\"Output:\\n\", output)\n",
        "print(\"Output shape:\\n\", output.shape)"
      ]
    },
    {
      "cell_type": "markdown",
      "metadata": {
        "id": "NKZAAFnmksjz"
      },
      "source": [
        "Now in Pytorch!"
      ]
    },
    {
      "cell_type": "code",
      "execution_count": 128,
      "metadata": {
        "id": "aAGAwhvfksjz",
        "outputId": "84207f2f-fc7a-43a6-bbac-23fb95bdfb8e",
        "colab": {
          "base_uri": "https://localhost:8080/"
        }
      },
      "outputs": [
        {
          "output_type": "stream",
          "name": "stdout",
          "text": [
            "Output:\n",
            " tensor([[22.0000],\n",
            "        [32.5000],\n",
            "        [43.0000]])\n",
            "Output shape:\n",
            " torch.Size([3, 1])\n"
          ]
        }
      ],
      "source": [
        "# We can transform our list of lists into a \"torch tensor\" by using the function \"FloatTensor\"\n",
        "# Note: here we've specified the datatype of the tensor, a 32bit \"float\" you can also just use the function \"tensor\"\n",
        "# But this will inherit the datatype of the array given, to ensure the data-types are the same\n",
        "# (and we can perform the wanted operations) we use \"FloatTensor\"\n",
        "\n",
        "W_torch = torch.FloatTensor(W)\n",
        "\n",
        "x_torch = torch.FloatTensor(x)\n",
        "\n",
        "# Lets use the function \"ones\" to create an array of ones!\n",
        "b_torch = torch.ones(3, 1)\n",
        "\n",
        "# Lets now compute Wx + b using these numpy variables!\n",
        "output = torch.matmul(W_torch, x_torch) + b_torch\n",
        "\n",
        "# Print out the result\n",
        "print(\"Output:\\n\", output)\n",
        "print(\"Output shape:\\n\", output.shape)"
      ]
    },
    {
      "cell_type": "markdown",
      "metadata": {
        "id": "EC-K8uUAksjz"
      },
      "source": [
        "Wow! Numpy and Pytorch are remarkably similar, though this is no coincidence! The creators of Pytorch did this intentionally to make it easy to transfer existing skills in Numpy (a Python library that everyone uses - has its origins back in 1995!!) to Pytorch. To aid this transfer there are even functions that can transfer Pytorch tensors to Numpy arrays and back!"
      ]
    },
    {
      "cell_type": "code",
      "execution_count": 129,
      "metadata": {
        "id": "k5GwKvPSksjz",
        "outputId": "dac0b462-d215-4588-c75e-0f554eae7294",
        "colab": {
          "base_uri": "https://localhost:8080/"
        }
      },
      "outputs": [
        {
          "output_type": "stream",
          "name": "stdout",
          "text": [
            "Numpy array:\n",
            " [[0.85888443 0.56573787 0.66469114 0.68588576]\n",
            " [0.05601747 0.64342268 0.179545   0.80967546]\n",
            " [0.17092409 0.3177138  0.32484272 0.27684316]]\n",
            "Pytorch tensor:\n",
            " tensor([[0.8589, 0.5657, 0.6647, 0.6859],\n",
            "        [0.0560, 0.6434, 0.1795, 0.8097],\n",
            "        [0.1709, 0.3177, 0.3248, 0.2768]])\n",
            "Numpy array:\n",
            " [[0.85888445 0.56573784 0.66469115 0.6858858 ]\n",
            " [0.05601747 0.64342266 0.179545   0.80967546]\n",
            " [0.17092408 0.3177138  0.32484272 0.27684316]]\n"
          ]
        }
      ],
      "source": [
        "# Create a random Numpy array\n",
        "np_array = np.random.random((3, 4))\n",
        "print(\"Numpy array:\\n\", np_array)\n",
        "\n",
        "# Convert to Pytorch tensor\n",
        "torch_tensor = torch.FloatTensor(np_array)\n",
        "print(\"Pytorch tensor:\\n\", torch_tensor)\n",
        "\n",
        "# Convert back to a Numpy array!\n",
        "np_array2 = torch_tensor.numpy()\n",
        "print(\"Numpy array:\\n\", np_array2)"
      ]
    },
    {
      "cell_type": "markdown",
      "metadata": {
        "id": "VF2G6FRQksjz"
      },
      "source": [
        "<h>"
      ]
    },
    {
      "cell_type": "markdown",
      "metadata": {
        "id": "TA-emVXMksjz"
      },
      "source": [
        "<h1>On to Pytorch!</h1>\n",
        "Let's further explore Pytorch and it's similarities to Numpy and then see what new functionalities it brings to the table!!\n",
        "<h3> Basic Element-wise Operations </h3>\n",
        "Let's quickly go back over some basics using Pytorch"
      ]
    },
    {
      "cell_type": "code",
      "execution_count": 130,
      "metadata": {
        "id": "0HI4KNsAksjz",
        "outputId": "b13c73d3-e232-4c6f-8faf-c395b1612614",
        "colab": {
          "base_uri": "https://localhost:8080/"
        }
      },
      "outputs": [
        {
          "output_type": "stream",
          "name": "stdout",
          "text": [
            "Our 1D Tensor:\n",
            " tensor([[0.1134, 0.0771, 0.1175, 0.5163, 0.6794],\n",
            "        [0.6578, 0.7661, 0.9222, 0.3886, 0.2266],\n",
            "        [0.2270, 0.6146, 0.7302, 0.4909, 0.3922],\n",
            "        [0.4909, 0.0574, 0.0267, 0.1416, 0.7492]])\n",
            "\n",
            "Scalar Multiplication:\n",
            " tensor([[1.1339, 0.7708, 1.1752, 5.1628, 6.7937],\n",
            "        [6.5781, 7.6610, 9.2223, 3.8857, 2.2664],\n",
            "        [2.2705, 6.1462, 7.3022, 4.9086, 3.9223],\n",
            "        [4.9090, 0.5742, 0.2672, 1.4155, 7.4924]])\n",
            "Addition and Square:\n",
            " tensor([[1.2396, 1.1601, 1.2489, 2.2991, 2.8203],\n",
            "        [2.7483, 3.1191, 3.6950, 1.9281, 1.5046],\n",
            "        [1.5056, 2.6070, 2.9937, 2.2227, 1.9383],\n",
            "        [2.2228, 1.1181, 1.0542, 1.3031, 3.0598]])\n",
            "Addition:\n",
            " tensor([[0.2268, 0.1542, 0.2350, 1.0326, 1.3587],\n",
            "        [1.3156, 1.5322, 1.8445, 0.7771, 0.4533],\n",
            "        [0.4541, 1.2292, 1.4604, 0.9817, 0.7845],\n",
            "        [0.9818, 0.1148, 0.0534, 0.2831, 1.4985]])\n",
            "Addition and division:\n",
            " tensor([[0.1018, 0.0716, 0.1052, 0.3405, 0.4045],\n",
            "        [0.3968, 0.4338, 0.4798, 0.2798, 0.1848],\n",
            "        [0.1850, 0.3807, 0.4220, 0.3292, 0.2817],\n",
            "        [0.3293, 0.0543, 0.0260, 0.1240, 0.4283]])\n",
            "\n",
            "Power and square root:\n",
            " tensor([[0.1134, 0.0771, 0.1175, 0.5163, 0.6794],\n",
            "        [0.6578, 0.7661, 0.9222, 0.3886, 0.2266],\n",
            "        [0.2270, 0.6146, 0.7302, 0.4909, 0.3922],\n",
            "        [0.4909, 0.0574, 0.0267, 0.1416, 0.7492]])\n",
            "\n",
            "Y -\n",
            " Min:0.03\n",
            " Max:0.92\n",
            " Standard Deviation:0.28\n",
            " Sum:8.39\n"
          ]
        }
      ],
      "source": [
        "# Lets create a 2D Tensor using torch.rand\n",
        "y = torch.rand(4, 5)\n",
        "# This will create a \"Vector\" of numbers from 0 to 1\n",
        "print(\"Our 1D Tensor:\\n\",y)\n",
        "\n",
        "# We can perform normal python scalar arithmetic on Torch tensors\n",
        "print(\"\\nScalar Multiplication:\\n\",y * 10)\n",
        "print(\"Addition and Square:\\n\",(y + 1)**2)\n",
        "print(\"Addition:\\n\",y + y)\n",
        "print(\"Addition and division:\\n\",y / (y + 1))\n",
        "\n",
        "# We can use a combination of Torch functions and normal python arithmetic\n",
        "print(\"\\nPower and square root:\\n\",torch.sqrt(y**2))\n",
        "\n",
        "# Torch tensors are objects and have functions\n",
        "print(\"\\nY -\\n Min:%.2f\\n Max:%.2f\\n Standard Deviation:%.2f\\n Sum:%.2f\" %(y.min(), y.max(), y.std(), y.sum()))"
      ]
    },
    {
      "cell_type": "markdown",
      "metadata": {
        "id": "LkqEcItGksjz"
      },
      "source": [
        "<h3>Tensor Opperations</h3>"
      ]
    },
    {
      "cell_type": "code",
      "execution_count": 131,
      "metadata": {
        "id": "wq9yQx_xksjz",
        "outputId": "8ef50071-c2d7-40b3-9147-caf2f7d7bca1",
        "colab": {
          "base_uri": "https://localhost:8080/"
        }
      },
      "outputs": [
        {
          "output_type": "stream",
          "name": "stdout",
          "text": [
            "Addition:\n",
            " tensor([[[1.0559, 1.3922, 0.0666],\n",
            "         [0.7804, 0.7030, 1.2596],\n",
            "         [0.7519, 0.5116, 1.1131]],\n",
            "\n",
            "        [[1.3166, 1.1196, 0.3584],\n",
            "         [1.2024, 0.8947, 0.8430],\n",
            "         [0.5125, 1.4429, 1.4101]],\n",
            "\n",
            "        [[1.2466, 1.6473, 0.6474],\n",
            "         [1.4074, 1.0100, 1.3575],\n",
            "         [1.0018, 0.5803, 1.2591]]])\n",
            "Batch Multiplication:\n",
            " tensor([[[0.3996, 0.7728, 0.2300],\n",
            "         [0.6276, 1.0246, 0.9864],\n",
            "         [0.2316, 0.4207, 0.1797]],\n",
            "\n",
            "        [[0.6709, 0.9576, 0.2063],\n",
            "         [0.8356, 1.1655, 0.4553],\n",
            "         [0.8718, 1.0985, 0.5016]],\n",
            "\n",
            "        [[0.9987, 0.6502, 0.8415],\n",
            "         [1.2871, 1.0022, 1.6145],\n",
            "         [0.7565, 0.6469, 0.7289]]])\n"
          ]
        }
      ],
      "source": [
        "# Create two 3D Tensors\n",
        "tensor_1 = torch.rand(3,3,3)\n",
        "tensor_2 = torch.rand(3,3,3)\n",
        "\n",
        "# Add the 2 Tensors\n",
        "print(\"Addition:\\n\",tensor_1 + tensor_2)\n",
        "\n",
        "# We cannot perform a normal \"matrix\" multiplication on a 3D tensor\n",
        "# But we can treat the 3D tensor as a \"batch\" (like a stack) of 2D tensors\n",
        "# And perform normal matrix multiplication independantly on each pair of 2D matricies\n",
        "print(\"Batch Multiplication:\\n\", torch.bmm(tensor_1, tensor_2))"
      ]
    },
    {
      "cell_type": "code",
      "execution_count": 132,
      "metadata": {
        "id": "Eze5QX8Tksj0",
        "outputId": "3349749d-2839-4bc7-814d-37c42291bed5",
        "colab": {
          "base_uri": "https://localhost:8080/"
        }
      },
      "outputs": [
        {
          "output_type": "stream",
          "name": "stdout",
          "text": [
            "\n",
            "The origional Tensor is is:\n",
            " tensor([[[0.2549, 0.7849, 0.0142, 0.7074, 0.2086],\n",
            "         [0.3946, 0.7801, 0.5567, 0.5621, 0.2573],\n",
            "         [0.9178, 0.1336, 0.4953, 0.6998, 0.9384],\n",
            "         [0.3361, 0.8810, 0.5000, 0.6320, 0.8567]],\n",
            "\n",
            "        [[0.5157, 0.0986, 0.5865, 0.3934, 0.7515],\n",
            "         [0.2720, 0.9626, 0.9711, 0.3982, 0.9967],\n",
            "         [0.9968, 0.7338, 0.3889, 0.8825, 0.0667],\n",
            "         [0.1328, 0.5617, 0.9090, 0.5700, 0.2374]]])\n",
            "With shape:\n",
            " torch.Size([2, 4, 5])\n",
            "The Re-arranged is:\n",
            " tensor([[[0.2549, 0.5157],\n",
            "         [0.3946, 0.2720],\n",
            "         [0.9178, 0.9968],\n",
            "         [0.3361, 0.1328]],\n",
            "\n",
            "        [[0.7849, 0.0986],\n",
            "         [0.7801, 0.9626],\n",
            "         [0.1336, 0.7338],\n",
            "         [0.8810, 0.5617]],\n",
            "\n",
            "        [[0.0142, 0.5865],\n",
            "         [0.5567, 0.9711],\n",
            "         [0.4953, 0.3889],\n",
            "         [0.5000, 0.9090]],\n",
            "\n",
            "        [[0.7074, 0.3934],\n",
            "         [0.5621, 0.3982],\n",
            "         [0.6998, 0.8825],\n",
            "         [0.6320, 0.5700]],\n",
            "\n",
            "        [[0.2086, 0.7515],\n",
            "         [0.2573, 0.9967],\n",
            "         [0.9384, 0.0667],\n",
            "         [0.8567, 0.2374]]])\n",
            "With shape:\n",
            " torch.Size([5, 4, 2])\n"
          ]
        }
      ],
      "source": [
        "# Lets create a more interesting tensor\n",
        "tensor_3 = torch.rand(2,4,5)\n",
        "# We can swap the Tensor dimensions\n",
        "print(\"\\nThe origional Tensor is is:\\n\", tensor_3)\n",
        "print(\"With shape:\\n\", tensor_3.shape)\n",
        "\n",
        "# Tranpose will swap the dimensions it is given\n",
        "print(\"The Re-arranged is:\\n\", tensor_3.transpose(0,2))\n",
        "print(\"With shape:\\n\", tensor_3.transpose(0,2).shape)"
      ]
    },
    {
      "cell_type": "markdown",
      "metadata": {
        "id": "c3QA3kV3ksj0"
      },
      "source": [
        "<h3> Indexing </h3>\n",
        "Indexing in Pytorch works the same as it does in Numpy, see if you can predict what values will be return by the indexing"
      ]
    },
    {
      "cell_type": "code",
      "execution_count": 133,
      "metadata": {
        "id": "igv6967rksj0",
        "outputId": "5484126e-f1ae-4954-df70-74df53260e91",
        "colab": {
          "base_uri": "https://localhost:8080/"
        }
      },
      "outputs": [
        {
          "output_type": "stream",
          "name": "stdout",
          "text": [
            "Our Tensor:\n",
            " tensor([[[[0.5132, 0.0485, 0.4927, 0.6442]],\n",
            "\n",
            "         [[0.7152, 0.2717, 0.2362, 0.4274]],\n",
            "\n",
            "         [[0.5784, 0.6624, 0.8652, 0.1101]]],\n",
            "\n",
            "\n",
            "        [[[0.8349, 0.6337, 0.0470, 0.7081]],\n",
            "\n",
            "         [[0.2541, 0.8154, 0.4507, 0.0126]],\n",
            "\n",
            "         [[0.9569, 0.7538, 0.8266, 0.4820]]]])\n",
            "\n",
            "The last element of dim0:\n",
            " tensor([[[0.8349, 0.6337, 0.0470, 0.7081]],\n",
            "\n",
            "        [[0.2541, 0.8154, 0.4507, 0.0126]],\n",
            "\n",
            "        [[0.9569, 0.7538, 0.8266, 0.4820]]])\n",
            "\n",
            "Indexed elements:\n",
            " tensor([[0.7152, 0.2717, 0.2362, 0.4274]])\n",
            "\n",
            "Indexed elements:\n",
            " tensor([0.2362, 0.4507])\n"
          ]
        }
      ],
      "source": [
        "# Create a 4D Tensor\n",
        "tensor = torch.rand(2,3,1,4)\n",
        "print(\"Our Tensor:\\n\",tensor)\n",
        "\n",
        "# Select the last element of dim0\n",
        "print(\"\\nThe last element of dim0:\\n\",tensor[-1])\n",
        "\n",
        "# 1st element of dim0\n",
        "# 2nd element of dim1\n",
        "print(\"\\nIndexed elements:\\n\",tensor[0, 1])\n",
        "\n",
        "# Select all elements of dim0\n",
        "# The 2nd element of dim1\n",
        "# The 1st element of dim2\n",
        "# The 3rd element of dim3\n",
        "print(\"\\nIndexed elements:\\n\",tensor[:, 1, 0, 2])"
      ]
    },
    {
      "cell_type": "markdown",
      "metadata": {
        "id": "ZIiZJ5Jqksj0"
      },
      "source": [
        "<h3> Describing Tensors </h3> <br>\n",
        "Lets see how we can view the characteristics of our Tensors"
      ]
    },
    {
      "cell_type": "code",
      "execution_count": 134,
      "metadata": {
        "id": "yqep5UYUksj0",
        "outputId": "cc2f4030-04c2-4534-c029-f495af09f505",
        "colab": {
          "base_uri": "https://localhost:8080/"
        }
      },
      "outputs": [
        {
          "output_type": "stream",
          "name": "stdout",
          "text": [
            "The Tensor's shape is: torch.Size([3, 5, 3, 2])\n",
            "The Tensor's shape using size() is: torch.Size([3, 5, 3, 2])\n",
            "There are 90 elements in total:\n",
            "There are 4 Dimensions\n"
          ]
        }
      ],
      "source": [
        "# Lets create a large 4D Tensor\n",
        "tensor = torch.rand(3, 5, 3, 2)\n",
        "\n",
        "# View the Number of elements in every dimension\n",
        "print(\"The Tensor's shape is:\", tensor.shape)\n",
        "\n",
        "# In Pytorch shape and size() do the same thing!\n",
        "print(\"The Tensor's shape using size() is:\", tensor.size())\n",
        "\n",
        "# View the number of elements in total\n",
        "print(\"There are %d elements in total:\" % tensor.numel())\n",
        "\n",
        "# View the number of Dimensions\n",
        "print(\"There are %d Dimensions\" %(tensor.ndim))"
      ]
    },
    {
      "cell_type": "markdown",
      "metadata": {
        "id": "9iDM8wMBksj0"
      },
      "source": [
        "<h3> Reshaping </h3> <br>\n",
        "We can change a Tensor to one of the same size (same number of elements) but a different shape by using functions in a similar fashion to Numpy but with different functions!"
      ]
    },
    {
      "cell_type": "code",
      "execution_count": 135,
      "metadata": {
        "id": "MRF5t-cAksj0",
        "outputId": "7bfc3eb3-d2fe-4674-c226-6c4d0cd24815",
        "colab": {
          "base_uri": "https://localhost:8080/"
        }
      },
      "outputs": [
        {
          "output_type": "stream",
          "name": "stdout",
          "text": [
            "Reshape to 3x30:\n",
            " tensor([[0.7708, 0.1199, 0.3143, 0.6925, 0.6362, 0.9568, 0.6128, 0.1058, 0.3367,\n",
            "         0.3914, 0.3115, 0.3380, 0.1895, 0.2330, 0.1949, 0.0257, 0.8743, 0.3727,\n",
            "         0.3156, 0.6623, 0.3813, 0.4873, 0.8467, 0.5158, 0.3903, 0.1333, 0.5165,\n",
            "         0.8932, 0.2960, 0.5277],\n",
            "        [0.6175, 0.3396, 0.4366, 0.5680, 0.2249, 0.8115, 0.9937, 0.7026, 0.6619,\n",
            "         0.7383, 0.9530, 0.8170, 0.2945, 0.5812, 0.4150, 0.0296, 0.7118, 0.4323,\n",
            "         0.6481, 0.6335, 0.2768, 0.4547, 0.8457, 0.8015, 0.9338, 0.6670, 0.1084,\n",
            "         0.1789, 0.0702, 0.7860],\n",
            "        [0.7145, 0.3324, 0.6246, 0.7813, 0.6870, 0.6565, 0.3262, 0.6305, 0.9872,\n",
            "         0.9428, 0.1312, 0.9337, 0.9974, 0.7796, 0.0723, 0.5305, 0.2139, 0.5483,\n",
            "         0.7614, 0.9230, 0.4751, 0.6678, 0.0607, 0.9775, 0.8300, 0.3663, 0.1989,\n",
            "         0.1907, 0.5294, 0.4335]])\n",
            "Flatten to a 1D Tensor:\n",
            " tensor([0.7708, 0.1199, 0.3143, 0.6925, 0.6362, 0.9568, 0.6128, 0.1058, 0.3367,\n",
            "        0.3914, 0.3115, 0.3380, 0.1895, 0.2330, 0.1949, 0.0257, 0.8743, 0.3727,\n",
            "        0.3156, 0.6623, 0.3813, 0.4873, 0.8467, 0.5158, 0.3903, 0.1333, 0.5165,\n",
            "        0.8932, 0.2960, 0.5277, 0.6175, 0.3396, 0.4366, 0.5680, 0.2249, 0.8115,\n",
            "        0.9937, 0.7026, 0.6619, 0.7383, 0.9530, 0.8170, 0.2945, 0.5812, 0.4150,\n",
            "        0.0296, 0.7118, 0.4323, 0.6481, 0.6335, 0.2768, 0.4547, 0.8457, 0.8015,\n",
            "        0.9338, 0.6670, 0.1084, 0.1789, 0.0702, 0.7860, 0.7145, 0.3324, 0.6246,\n",
            "        0.7813, 0.6870, 0.6565, 0.3262, 0.6305, 0.9872, 0.9428, 0.1312, 0.9337,\n",
            "        0.9974, 0.7796, 0.0723, 0.5305, 0.2139, 0.5483, 0.7614, 0.9230, 0.4751,\n",
            "        0.6678, 0.0607, 0.9775, 0.8300, 0.3663, 0.1989, 0.1907, 0.5294, 0.4335])\n",
            "Reshape to 10xwhatever:\n",
            " tensor([[0.7708, 0.1199, 0.3143, 0.6925, 0.6362, 0.9568, 0.6128, 0.1058, 0.3367],\n",
            "        [0.3914, 0.3115, 0.3380, 0.1895, 0.2330, 0.1949, 0.0257, 0.8743, 0.3727],\n",
            "        [0.3156, 0.6623, 0.3813, 0.4873, 0.8467, 0.5158, 0.3903, 0.1333, 0.5165],\n",
            "        [0.8932, 0.2960, 0.5277, 0.6175, 0.3396, 0.4366, 0.5680, 0.2249, 0.8115],\n",
            "        [0.9937, 0.7026, 0.6619, 0.7383, 0.9530, 0.8170, 0.2945, 0.5812, 0.4150],\n",
            "        [0.0296, 0.7118, 0.4323, 0.6481, 0.6335, 0.2768, 0.4547, 0.8457, 0.8015],\n",
            "        [0.9338, 0.6670, 0.1084, 0.1789, 0.0702, 0.7860, 0.7145, 0.3324, 0.6246],\n",
            "        [0.7813, 0.6870, 0.6565, 0.3262, 0.6305, 0.9872, 0.9428, 0.1312, 0.9337],\n",
            "        [0.9974, 0.7796, 0.0723, 0.5305, 0.2139, 0.5483, 0.7614, 0.9230, 0.4751],\n",
            "        [0.6678, 0.0607, 0.9775, 0.8300, 0.3663, 0.1989, 0.1907, 0.5294, 0.4335]])\n"
          ]
        }
      ],
      "source": [
        "# Let us reshape our Tensor to a 2D Tensor\n",
        "print(\"Reshape to 3x30:\\n\", tensor.reshape(3, 30))\n",
        "\n",
        "# We can also use the Flatten method to convert to a 1D Tensor\n",
        "print(\"Flatten to a 1D Tensor:\\n\",tensor.flatten())\n",
        "\n",
        "# Here the -1 tells Pytorch to put as many elements as it needs here in order to maintain the given dimention sizes\n",
        "# AKA \"I don't care the size of this dimention as long as the first one is 10\"\n",
        "print(\"Reshape to 10xwhatever:\\n\",tensor.reshape(10, -1))"
      ]
    },
    {
      "cell_type": "markdown",
      "metadata": {
        "id": "VULanXpyksj0"
      },
      "source": [
        "<h4>Squeezing and Unsqueezing </h4>\n",
        "A very common shape-changing operation is to add an \"empty\" dimension to ensure the shape (specifically the number of dimensions) of the tensor is correct for certain functions. <br>\n",
        "For example, when we start using Pytorch Neural Network modules, we need to provide the input of the network with a \"batch\" dimension (we often pass multiple inputs to our network at once) even if we only pass 1 datapoint!"
      ]
    },
    {
      "cell_type": "code",
      "execution_count": 136,
      "metadata": {
        "id": "9l_LL2X3ksj0",
        "outputId": "536b39c9-1762-4cbe-d6c8-d94b914c6822",
        "colab": {
          "base_uri": "https://localhost:8080/"
        }
      },
      "outputs": [
        {
          "output_type": "stream",
          "name": "stdout",
          "text": [
            "The Tensors shape is: torch.Size([3, 2])\n",
            "Add an empty dimenson to dim3: torch.Size([3, 2, 1])\n",
            "Add an empty dimenson to dim2: torch.Size([3, 1, 2])\n"
          ]
        }
      ],
      "source": [
        "# Lets create a 2D Tensor\n",
        "tensor = torch.rand(3, 2)\n",
        "\n",
        "# View the Number of elements in every dimension\n",
        "print(\"The Tensors shape is:\", tensor.shape)\n",
        "\n",
        "# Unsqueeze adds an \"empty\" dimension to our Tensor\n",
        "print(\"Add an empty dimenson to dim3:\", tensor.unsqueeze(2).shape)\n",
        "\n",
        "# Unsqueeze adds an \"empty\" dimension to our Tensor\n",
        "print(\"Add an empty dimenson to dim2:\", tensor.unsqueeze(1).shape)"
      ]
    },
    {
      "cell_type": "code",
      "execution_count": 137,
      "metadata": {
        "id": "1rtCYlY-ksj0",
        "outputId": "abd91acb-852a-4d35-e822-1c3eaebd8f51",
        "colab": {
          "base_uri": "https://localhost:8080/"
        }
      },
      "outputs": [
        {
          "output_type": "stream",
          "name": "stdout",
          "text": [
            "The Tensors shape is: torch.Size([1, 3, 1, 2])\n",
            "Remove empty dimenson dim3: torch.Size([1, 3, 2])\n",
            "Remove empty dimenson dim0: torch.Size([3, 1, 2])\n",
            "Remove all empty dimensons: torch.Size([3, 2])\n"
          ]
        }
      ],
      "source": [
        "# Lets create a 4D Tensor with a few \"empty\" dimensions\n",
        "tensor = torch.rand(1, 3, 1, 2)\n",
        "\n",
        "# view the Number of elements in every dimension\n",
        "print(\"The Tensors shape is:\", tensor.shape)\n",
        "\n",
        "# squeeze removes an \"empty\" dimension from our Tensor\n",
        "print(\"Remove empty dimenson dim3:\", tensor.squeeze(2).shape)\n",
        "\n",
        "# squeeze removes an \"empty\" dimension from our Tensor\n",
        "print(\"Remove empty dimenson dim0:\", tensor.squeeze(0).shape)\n",
        "\n",
        "# If we don't specify a dimension, squeeze will remove ALL empty dimensions\n",
        "print(\"Remove all empty dimensons:\", tensor.squeeze().shape)"
      ]
    },
    {
      "cell_type": "markdown",
      "metadata": {
        "id": "2Kwgkfrgksj0"
      },
      "source": [
        "<h3> Broadcasting </h3>\n",
        "Broadcasting also works in Pytorch!"
      ]
    },
    {
      "cell_type": "code",
      "execution_count": 138,
      "metadata": {
        "id": "wlhkbeUNksj0",
        "outputId": "5142992f-8260-4d9c-9241-3b88e40b625e",
        "colab": {
          "base_uri": "https://localhost:8080/"
        }
      },
      "outputs": [
        {
          "output_type": "stream",
          "name": "stdout",
          "text": [
            "Tensor 1 shape:\n",
            " torch.Size([1, 4, 3, 1])\n",
            "Tensor 2 shape:\n",
            " torch.Size([3, 4, 1, 4])\n",
            "The resulting shape is:\n",
            " torch.Size([3, 4, 3, 4])\n"
          ]
        }
      ],
      "source": [
        "# Lets create 2 differently shaped 4D Tensors (Matrices)\n",
        "tensor1 = torch.rand(1, 4, 3, 1)\n",
        "tensor2 = torch.rand(3, 4, 1, 4)\n",
        "\n",
        "print(\"Tensor 1 shape:\\n\", tensor1.shape)\n",
        "print(\"Tensor 2 shape:\\n\", tensor2.shape)\n",
        "\n",
        "tensor3 = tensor1 + tensor2\n",
        "\n",
        "print(\"The resulting shape is:\\n\", tensor3.shape)"
      ]
    },
    {
      "cell_type": "markdown",
      "metadata": {
        "id": "Wct891IMksj0"
      },
      "source": [
        "<h1> Pytorch Autograd </h1>\n",
        "<h3>Lets see Numpy do this!</h3>\n",
        "Now on to something that makes Pytorch (and other Deep Learning frameworks) unique, the auto-differentiable computational graphs! (don't worry about how this exactly works)<br>\n",
        "\n",
        "Remember how we compute the gradients of parameters (weights) of a model by \"backpropagation\". First we calculate the \"gradient\" of the loss with respect to the model's output and then using the chain rule find the gradient of the loss with respect to the parameters or the input and on and on for larger networks. Seems like a pretty repetitive process governed by some well known rules right? Well you know what is good at doing repetitive well defined things?!?! Computers!!<br>\n",
        "\n",
        "[Youtube - Backpropagation Main Ideas by StatQuest](https://www.youtube.com/watch?v=IN2XmBhILt4&list=PLblh5JKOoLUIxGDQs4LFFD--41Vzf-ME1&index=6)\n",
        "\n",
        "[Youtube - What is backpropagation really doing? by 3Blue1Brown](https://www.youtube.com/watch?v=Ilg3gGewQ5U)\n",
        "\n",
        "[Blog - Yes you should understand backprop by Andrej Karpathy](https://karpathy.medium.com/yes-you-should-understand-backprop-e2f06eab496b)\n",
        "\n",
        "This \"automatic\" backpropagation (among other things) is what Pytorch REALLY gives us that makes training Neural Networks easy. So how does it do it? Well first Pytorch keeps track of everything we do!! (unless we tell it not to) It does this by forming a \"computational graph\" - a tree-like structure of all the operations we perform starting at some initial tensor. When we tell Pytorch to backpropagate from some point, it works backwards up this tree and calculates and stores the gradients with respect to the point from where we back propagated from."
      ]
    },
    {
      "cell_type": "markdown",
      "metadata": {
        "id": "bvKw5AxSksj0"
      },
      "source": [
        "Lets see an example of this!"
      ]
    },
    {
      "cell_type": "code",
      "execution_count": 139,
      "metadata": {
        "id": "NWfEJUv7ksj0",
        "outputId": "6c697a67-1acd-4cd9-a012-0630f16a2c66",
        "colab": {
          "base_uri": "https://localhost:8080/"
        }
      },
      "outputs": [
        {
          "output_type": "stream",
          "name": "stdout",
          "text": [
            "Calculated Gradients\n",
            "dy/dx 2.0\n",
            "dy/dw 4.0\n",
            "dy/db 1.0\n"
          ]
        }
      ],
      "source": [
        "# Lets create some tensors, requires_grad tells Pytorch we want to store the gradients for this tensor\n",
        "# we need to do this if we are working with basic Pytorch tensors\n",
        "x = torch.FloatTensor([4])\n",
        "x.requires_grad = True\n",
        "w = torch.FloatTensor([2])\n",
        "w.requires_grad = True\n",
        "b = torch.FloatTensor([3])\n",
        "b.requires_grad = True\n",
        "\n",
        "# By performing a simple computation Pytorch will build a computational graph.\n",
        "y = w * x + b    # y = 2 * x + 3\n",
        "\n",
        "# It's easy to see that\n",
        "# dy/dx = w = 2\n",
        "# dy/dw = x = 4\n",
        "# dy/db = 1\n",
        "\n",
        "# Compute gradients via Pytorch's Autograd\n",
        "y.backward()\n",
        "\n",
        "# Print out the calculated gradients\n",
        "# These gradients are the gradients with respect to the point where we backprop'd from - y\n",
        "# Create your own equation and use the auto backprop to see the partial derivatives!\n",
        "print(\"Calculated Gradients\")\n",
        "print(\"dy/dx\", x.grad.item())    # x.grad = dy/dx = 2\n",
        "print(\"dy/dw\", w.grad.item())    # w.grad = dy/dw = 4\n",
        "print(\"dy/db\", b.grad.item())   # b.grad = dy/db = 1\n",
        "# Note: .item() simply returns a 0D Tensor as a Python scalar"
      ]
    },
    {
      "cell_type": "markdown",
      "metadata": {
        "id": "JVNregYMksj0"
      },
      "source": [
        "<h3> Finding the minimum </h3>\n",
        "We can use gradient decent to find the minimum of an equation"
      ]
    },
    {
      "cell_type": "code",
      "execution_count": 140,
      "metadata": {
        "id": "-fVf_rXhksj0",
        "outputId": "d9f165c9-4a0a-443e-ad79-747853dc77ac",
        "colab": {
          "base_uri": "https://localhost:8080/",
          "height": 448
        }
      },
      "outputs": [
        {
          "output_type": "execute_result",
          "data": {
            "text/plain": [
              "[<matplotlib.lines.Line2D at 0x7bd611b5b8b0>]"
            ]
          },
          "metadata": {},
          "execution_count": 140
        },
        {
          "output_type": "display_data",
          "data": {
            "text/plain": [
              "<Figure size 640x480 with 1 Axes>"
            ],
            "image/png": "[encoded data removed]"
          },
          "metadata": {}
        }
      ],
      "source": [
        "# Lets find the minimum of a parabola!\n",
        "\n",
        "# Define the equation as a lambda function\n",
        "fx = lambda  x: x**2 + 1.5 * x - 1\n",
        "\n",
        "x = np.linspace(-10, 8.5, 100)\n",
        "\n",
        "plt.plot(x, fx(x))"
      ]
    },
    {
      "cell_type": "code",
      "execution_count": 141,
      "metadata": {
        "id": "nlQGR9Q4ksj1",
        "outputId": "b14c3129-c695-4b85-c81f-f7e135a08f11",
        "colab": {
          "base_uri": "https://localhost:8080/"
        }
      },
      "outputs": [
        {
          "output_type": "stream",
          "name": "stdout",
          "text": [
            "dy/dx is 0.40 when x is -0.55\n"
          ]
        }
      ],
      "source": [
        "# Create a random point X\n",
        "x_ = torch.randn(1)\n",
        "x_.requires_grad = True\n",
        "\n",
        "# Lets use Pytorch's Autograd to find the gradient at this point\n",
        "y_ = fx(x_)\n",
        "y_.backward()\n",
        "\n",
        "# The gradient tells us the direction to travel to increase Y\n",
        "dy_dx_ = x_.grad.item()\n",
        "print(\"dy/dx is %.2f when x is %.2f\" % (dy_dx_, x_))"
      ]
    },
    {
      "cell_type": "code",
      "execution_count": 142,
      "metadata": {
        "id": "y7PIRx8hksj1",
        "outputId": "657002d7-e8d9-452b-d3c1-90f977d8c2eb",
        "colab": {
          "base_uri": "https://localhost:8080/"
        }
      },
      "outputs": [
        {
          "output_type": "stream",
          "name": "stdout",
          "text": [
            "Y minimum is -1.56 and is when X = -0.75, found after 242 steps\n"
          ]
        }
      ],
      "source": [
        "# Lets take some steps to decend the gradient!\n",
        "\n",
        "# Create a random point X\n",
        "x_ = torch.randn(1)\n",
        "x_.requires_grad = True\n",
        "\n",
        "# Create some loggers\n",
        "x_logger = []\n",
        "y_logger = []\n",
        "\n",
        "# We'll keep track of how many steps we've done\n",
        "counter = 0\n",
        "\n",
        "# Set a scale for the step size\n",
        "learning_rate = 0.01\n",
        "\n",
        "# Initialise the gradient to a large value\n",
        "dy_dx_ = 1000\n",
        "\n",
        "# We'll limit the max number of steps so we don't create an infinite loop\n",
        "max_num_steps = 1000\n",
        "\n",
        "# Keep taking steps untill the gradient is small\n",
        "while np.abs(dy_dx_) > 0.001:\n",
        "    # Get the Y point at the current x value\n",
        "    y_ = fx(x_)\n",
        "\n",
        "    # Calculate the gradient at this point\n",
        "    y_.backward()\n",
        "    dy_dx_ = x_.grad.item()\n",
        "\n",
        "    # Pytorch will not keep track of operations within a torch.no_grad() block\n",
        "    # We don't want Pytorch to add our gradient decent step to the computational graph!\n",
        "    with torch.no_grad():\n",
        "        # Take a step down (decend) the curve\n",
        "        x_ -= learning_rate * dy_dx_\n",
        "\n",
        "        # Pytorch will accumulate the gradient over multiple backward passes\n",
        "        # For our use case we don't want this to happen so we need to set it to zero\n",
        "        # After we have used it\n",
        "        x_.grad.zero_()\n",
        "\n",
        "        # Log the X and Y points to plot\n",
        "        x_logger.append(x_.item())\n",
        "        y_logger.append(y_.item())\n",
        "\n",
        "    counter += 1\n",
        "\n",
        "    if counter == max_num_steps:\n",
        "        break\n",
        "\n",
        "print(\"Y minimum is %.2f and is when X = %.2f, found after %d steps\" % (y_.item(), x_.item(), counter))"
      ]
    },
    {
      "cell_type": "markdown",
      "metadata": {
        "id": "_4V6hys_ksj1"
      },
      "source": [
        "<h1>Models and Optimizers</h1>\n",
        "\n",
        "<h2>Pytorch nn.Module</h2>\n",
        "In Pytorch the basic template for creating our models is the \"Module\" class within torch.nn. To create our own class we inherit this class as the \"superclass\" so that we have access to all the properties and functions. <br>\n",
        "Lets create our own constructor of this class!\n",
        "\n",
        "The two main functions we need to create are the <b>\\__init__</b> and <b>forward</b> functions. We've already seen <b>\\__init__</b> so lets looks at <b>forward</b><br>\n",
        "\n",
        "The <b>forward</b> function is the only function that we MUST create when we build our class, Pytorch uses this fuction as the \"entry point\" to our model and is what is called when we do a forward pass of our model.\n"
      ]
    },
    {
      "cell_type": "code",
      "execution_count": 143,
      "metadata": {
        "id": "DbGZqSv7ksj1"
      },
      "outputs": [],
      "source": [
        "class SimpleFunction(nn.Module):\n",
        "    \"\"\"\n",
        "    Simple implementation of an nn.Module subclass\n",
        "    Takes the input (x) and returns x * 4 + 2\n",
        "    \"\"\"\n",
        "    def __init__(self):\n",
        "        # Pass our class and self to superclass and call the superclass's init function\n",
        "        super(SimpleFunction, self).__init__()\n",
        "\n",
        "    def forward(self, x):\n",
        "        return x * 4 + 2"
      ]
    },
    {
      "cell_type": "code",
      "execution_count": 144,
      "metadata": {
        "id": "_mijtLa1ksj1",
        "outputId": "76509a31-ddef-41a3-acea-866dbc67dae6",
        "colab": {
          "base_uri": "https://localhost:8080/"
        }
      },
      "outputs": [
        {
          "output_type": "stream",
          "name": "stdout",
          "text": [
            "Class output: 42\n"
          ]
        }
      ],
      "source": [
        "# Create an instance of our class\n",
        "simple_function = SimpleFunction()\n",
        "# Perform a \"forward pass\" of our class\n",
        "output = simple_function(10)\n",
        "print(\"Class output:\", output)\n",
        "# Note we do NOT need to explicitly call the .forward() function of our class,\n",
        "# a forward pass of our models is such a common step that Pytorch makes it easier and cleaner for us to do"
      ]
    },
    {
      "cell_type": "markdown",
      "metadata": {
        "id": "cJeTlU7Xksj1"
      },
      "source": [
        "<h3>A more complicated model </h3><br>\n",
        "The previous nn.Module class that we created wasn't really a ML \"model\", lets create something that we've seen before; a simple linear model."
      ]
    },
    {
      "cell_type": "code",
      "execution_count": 145,
      "metadata": {
        "id": "sh6Wzk_gksj1"
      },
      "outputs": [],
      "source": [
        "class LinearModel(nn.Module):\n",
        "    \"\"\"\n",
        "    Takes the input (x) and returns x * w^t + b\n",
        "    \"\"\"\n",
        "    def __init__(self, input_size, output_size):\n",
        "        # Pass our class and self to superclass and call the superclass's init function\n",
        "        super(LinearModel, self).__init__()\n",
        "        # nn.Parameter wraps our normal tensors and \"tells\" Pytorch\n",
        "        # that they are our nn.Module's model parameters to be optimized\n",
        "        self.w = nn.Parameter(torch.randn(output_size, input_size))\n",
        "        self.b = nn.Parameter(torch.randn(1, output_size))\n",
        "\n",
        "    def forward(self, x):\n",
        "        return torch.matmul(x,  self.w.t()) + self.b"
      ]
    },
    {
      "cell_type": "code",
      "execution_count": 146,
      "metadata": {
        "id": "hfPusdprksj1",
        "outputId": "9e72ca4b-f014-42b8-d937-5a59c4e22671",
        "colab": {
          "base_uri": "https://localhost:8080/"
        }
      },
      "outputs": [
        {
          "output_type": "stream",
          "name": "stdout",
          "text": [
            "torch.Size([10, 1])\n",
            "tensor([[ 1.1611],\n",
            "        [ 0.5998],\n",
            "        [ 1.6458],\n",
            "        [-1.3057],\n",
            "        [ 0.8969],\n",
            "        [ 0.6758],\n",
            "        [-0.0574],\n",
            "        [-0.3889],\n",
            "        [-1.5658],\n",
            "        [-0.9510]])\n"
          ]
        }
      ],
      "source": [
        "# Create a batch of 10 datapoints each 5D\n",
        "input_data = torch.randn(10, 5)\n",
        "\n",
        "# Create an instance of our Model\n",
        "linear_model = LinearModel(5, 1)\n",
        "\n",
        "# Perform a forward pass!\n",
        "output = linear_model(input_data)\n",
        "\n",
        "print(output.shape)\n",
        "print(output.detach())\n",
        "# Note: detach \"disconnects\" the tensor and returns it with no history of previous calculations"
      ]
    },
    {
      "cell_type": "markdown",
      "metadata": {
        "id": "9YDqVHD3ksj1"
      },
      "source": [
        "<h2>Pytorch inbuilt Neural Network Layers</h2>\n",
        "The \"Linear layer\" is so common place that Pytorch already has an implementation of it, in fact Pytorch has implementations of most Layer types which act as building blocks for our multi-layer models. For now lets just see how we can implement Pytorch's linear layer (we will see may more layer types later in the semester!).<br>\n",
        "<b>Things to know!</b><br>\n",
        "- Pytorch initialises the weights and biases of it's layers in very particular ways (not just from a normal distribution!), usualy based off of deep learning research, see the documentation for more details.<br>\n",
        "- Pytorch includes a bias term in it's layers by default."
      ]
    },
    {
      "cell_type": "code",
      "execution_count": 147,
      "metadata": {
        "id": "lKTa4oitksj1",
        "outputId": "a4144a17-79bf-48fd-a7d7-db8ca6ebdb6f",
        "colab": {
          "base_uri": "https://localhost:8080/"
        }
      },
      "outputs": [
        {
          "output_type": "stream",
          "name": "stdout",
          "text": [
            "w:\n",
            " tensor([[-0.3295,  0.3916, -0.1917]])\n",
            "b:\n",
            " tensor([0.3737])\n",
            "w shape:\n",
            " torch.Size([1, 3])\n",
            "b shape:\n",
            " torch.Size([1])\n"
          ]
        }
      ],
      "source": [
        "# Build a linear layer aka a \"fully connected\" layer aka a \"Perceptron\" layer\n",
        "# nn.Linear(Number of inputs, Number of outputs)\n",
        "linear = nn.Linear(3, 1)\n",
        "\n",
        "# Lets have a look at the parameters of this layer\n",
        "# The \"weights\" are what is multipied by the input data\n",
        "print ('w:\\n', linear.weight.data)\n",
        "# The bias is then added on!\n",
        "print ('b:\\n', linear.bias.data)\n",
        "\n",
        "print ('w shape:\\n', linear.weight.data.shape)\n",
        "print ('b shape:\\n', linear.bias.data.shape)\n",
        "# Note: .data just gives us the raw Tensor without any connection to the computational graph\n",
        "# - it looks nicer when we print it out\n",
        "# Note: The opperation the linear layer performs is y = x*A^t + b\n",
        "# where A^t is the transpose of the weights and b is the bias,\n",
        "# this opperation is also know as an \"affine transformation\""
      ]
    },
    {
      "cell_type": "code",
      "execution_count": 148,
      "metadata": {
        "id": "aE0NTxSGksj1",
        "outputId": "76067352-db91-4fba-a7ee-77b1d691becc",
        "colab": {
          "base_uri": "https://localhost:8080/"
        }
      },
      "outputs": [
        {
          "output_type": "stream",
          "name": "stdout",
          "text": [
            "w:\n",
            " None\n",
            "b:\n",
            " None\n"
          ]
        }
      ],
      "source": [
        "# Lets have a look at the gradients of these parameters\n",
        "print ('w:\\n', linear.weight.grad)\n",
        "print ('b:\\n', linear.bias.grad)\n",
        "# Note: Pytorch initialises the grad of the tensors to \"None\" NOT 0!\n",
        "# They only get created after the first backwards pass."
      ]
    },
    {
      "cell_type": "code",
      "execution_count": 149,
      "metadata": {
        "id": "ZudtW0M1ksj1",
        "outputId": "e4c475a3-7f8b-4162-d9ab-097aa3089f74",
        "colab": {
          "base_uri": "https://localhost:8080/"
        }
      },
      "outputs": [
        {
          "output_type": "stream",
          "name": "stdout",
          "text": [
            "Input data:\n",
            " tensor([[ 0.8336, -0.0090,  0.3625],\n",
            "        [-0.5110,  0.2443,  0.6941],\n",
            "        [-0.0354,  0.0959, -1.2269],\n",
            "        [-0.6651, -1.4932,  1.6611],\n",
            "        [ 0.2954, -1.9515, -1.4005],\n",
            "        [ 0.8996, -0.4179, -1.1152],\n",
            "        [ 1.3891, -0.0585, -0.6049],\n",
            "        [ 0.0064, -1.1321, -0.4912],\n",
            "        [-0.6757,  2.0034,  0.1811],\n",
            "        [-0.1881, -2.5708,  2.4036]])\n",
            "Output data:\n",
            " tensor([[ 1.1954],\n",
            "        [ 0.4334],\n",
            "        [-1.1580],\n",
            "        [-0.4939],\n",
            "        [-3.0629],\n",
            "        [-0.6119],\n",
            "        [ 0.7293],\n",
            "        [-1.6036],\n",
            "        [ 1.5174],\n",
            "        [-0.3477]])\n"
          ]
        }
      ],
      "source": [
        "# Create a random data input tensor\n",
        "data = torch.randn(100, 3)\n",
        "# Create some noisey target data\n",
        "target = data.sum(1, keepdims=True) + 0.01*torch.randn(data.shape[0], 1)\n",
        "print ('Input data:\\n', data[:10])\n",
        "print ('Output data:\\n', target[:10])"
      ]
    },
    {
      "cell_type": "markdown",
      "metadata": {
        "id": "e8GUdCDiksj1"
      },
      "source": [
        "Now that everything is set up, lets perform a \"forward pass\" of our model, aka let's put the data into the model and see what comes out."
      ]
    },
    {
      "cell_type": "code",
      "execution_count": 150,
      "metadata": {
        "id": "h0P4oFh4ksj2",
        "outputId": "fcdf55c8-85ef-4314-ab15-71be8108fce2",
        "colab": {
          "base_uri": "https://localhost:8080/"
        }
      },
      "outputs": [
        {
          "output_type": "stream",
          "name": "stdout",
          "text": [
            "Network output:\n",
            " tensor([[ 0.0260],\n",
            "        [ 0.5047],\n",
            "        [ 0.6582],\n",
            "        [-0.3104],\n",
            "        [-0.2193],\n",
            "        [ 0.1275],\n",
            "        [ 0.0091],\n",
            "        [ 0.0225],\n",
            "        [ 1.3462],\n",
            "        [-1.0320]])\n",
            "Network output shape: torch.Size([100, 1])\n"
          ]
        }
      ],
      "source": [
        "# Remember! To perform a forward pass of our model, we just need to \"call\" our network\n",
        "# Pytorch's nn.Module class will automatically pass it to the \"forward\" function in the layer class\n",
        "target_pred = linear(data)\n",
        "print(\"Network output:\\n\", target_pred.data[:10])\n",
        "print(\"Network output shape:\", target_pred.shape)"
      ]
    },
    {
      "cell_type": "markdown",
      "metadata": {
        "id": "NTCAb8pEksj2"
      },
      "source": [
        "<h3>Loss Functions and Optimizers</h3>\n",
        "Now lets see how Pytorch helps us optimize our model!<br>\n",
        "<b>Loss functions</b><br>\n",
        "We've already seen loss function's before and defined our own, but using Pytorch we can pick from some pre-defined functions (we can also just create our own).\n",
        "\n",
        "<b>Optimizers</b><br>\n",
        "This is the object that will be doing the parameter updates for us! Pytorch has a number of different optimizers, some of which we will explore in future labs. For now we will just use our well known Gradient Descent (GD) optimizer.<br>\n",
        "Note: Most optimizers are just some variant of GD"
      ]
    },
    {
      "cell_type": "code",
      "execution_count": 151,
      "metadata": {
        "id": "QaT-eJVhksj2"
      },
      "outputs": [],
      "source": [
        "# Lets perform a regression with a mean square error loss\n",
        "loss_function = nn.MSELoss()\n",
        "\n",
        "# Lets create a Stochastic gradient descent optimizer with a learning rate of 0.01\n",
        "# (the way we will be using it, it is just normal GD)\n",
        "# When we create the optimizer we need to tell it WHAT it needs to optimize, so the first thing\n",
        "# We pass it are the linear layer's \"parameters\"\n",
        "optimizer = torch.optim.SGD(linear.parameters(), lr=0.01)"
      ]
    },
    {
      "cell_type": "markdown",
      "metadata": {
        "id": "_zSSL4Idksj2"
      },
      "source": [
        "We can see from the following scatter plot that the outout of our model is NOT the same as our target data, let's see what the MSE loss is."
      ]
    },
    {
      "cell_type": "code",
      "execution_count": 152,
      "metadata": {
        "id": "tBcY0ib2ksj2",
        "outputId": "cfcbd0dc-f638-4d31-b079-74f72a476573",
        "colab": {
          "base_uri": "https://localhost:8080/",
          "height": 467
        }
      },
      "outputs": [
        {
          "output_type": "execute_result",
          "data": {
            "text/plain": [
              "Text(0, 0.5, 'Ouputs')"
            ]
          },
          "metadata": {},
          "execution_count": 152
        },
        {
          "output_type": "display_data",
          "data": {
            "text/plain": [
              "<Figure size 640x480 with 1 Axes>"
            ],
            "image/png": "[encoded data removed]"
          },
          "metadata": {}
        }
      ],
      "source": [
        "# Plotting the first dimension of the input vs the output\n",
        "\n",
        "# Use the outputs of the model from a few cells ago\n",
        "plt.scatter(data[:, 0], target_pred.detach())\n",
        "# Use the Ground Truth data\n",
        "plt.scatter(data[:, 0], target, marker=\"x\")\n",
        "plt.legend([\"Predictions\", \"Ground Truth Data\"])\n",
        "plt.xlabel(\"Inputs\")\n",
        "plt.ylabel(\"Ouputs\")"
      ]
    },
    {
      "cell_type": "code",
      "execution_count": 153,
      "metadata": {
        "id": "5thZgwRpksj2",
        "outputId": "4509b4da-5554-4bd9-e495-1039f04f745d",
        "colab": {
          "base_uri": "https://localhost:8080/"
        }
      },
      "outputs": [
        {
          "output_type": "stream",
          "name": "stdout",
          "text": [
            "loss: 3.2404849529266357\n"
          ]
        }
      ],
      "source": [
        "loss = loss_function(target_pred, target)\n",
        "print('loss:', loss.item())"
      ]
    },
    {
      "cell_type": "markdown",
      "metadata": {
        "id": "AY_Bnpzsksj2"
      },
      "source": [
        "Lets perform a backward pass of our model to compute the gradients!"
      ]
    },
    {
      "cell_type": "code",
      "execution_count": 154,
      "metadata": {
        "id": "V2yKEC4-ksj2",
        "outputId": "0fce419a-8e8c-48a0-cf0b-2a559ff25d1d",
        "colab": {
          "base_uri": "https://localhost:8080/"
        }
      },
      "outputs": [
        {
          "output_type": "stream",
          "name": "stdout",
          "text": [
            "dL/dw:  tensor([[-2.0552, -1.3011, -2.0827]])\n",
            "dL/db:  tensor([1.2662])\n"
          ]
        }
      ],
      "source": [
        "# Backward pass.\n",
        "loss.backward()\n",
        "# Print out the gradients.\n",
        "print ('dL/dw: ', linear.weight.grad)\n",
        "print ('dL/db: ', linear.bias.grad)\n",
        "# Note for every backwards pass of the model we must first perform a forward pass\n",
        "# as data from parts of the computational graph have been deleted upon the backward pass to save memory.\n",
        "# We can tell Pytorch to hold onto this data, but, in many cases it needs to be recalculated anyway"
      ]
    },
    {
      "cell_type": "markdown",
      "metadata": {
        "id": "qoRvhzUoksj2"
      },
      "source": [
        "Now, finally, tell the optimizer to perform an update step!"
      ]
    },
    {
      "cell_type": "code",
      "execution_count": 155,
      "metadata": {
        "id": "MO8amTG8ksj2",
        "outputId": "da7845aa-37c2-4985-8cc3-ad2714bfc9ec",
        "colab": {
          "base_uri": "https://localhost:8080/"
        }
      },
      "outputs": [
        {
          "output_type": "stream",
          "name": "stdout",
          "text": [
            "loss after 1 step optimization:  3.1230406761169434\n"
          ]
        }
      ],
      "source": [
        "# he critical step to update the parameter which reduce the loss\n",
        "optimizer.step()\n",
        "\n",
        "# Perform another forward pass of the model to check the new loss\n",
        "target_pred = linear(data)\n",
        "loss = loss_function(target_pred, target)\n",
        "print('loss after 1 step optimization: ', loss.item())"
      ]
    },
    {
      "cell_type": "markdown",
      "metadata": {
        "id": "LMxAd647ksj2"
      },
      "source": [
        "<h3>The Training Loop</h3>\n",
        "Our loss has gone down!! Lets see how low we can get it to go by constructing a training loop!<br>\n",
        "For MOST tasks (but not all) a simgle training iteration in Pytorch can be summarised in the following 5 steps:<br>\n",
        "- Forward pass of our model with the data.<br>\n",
        "- Calculate the loss.<br>\n",
        "- Reset the current stored gradients to 0<br>\n",
        "- Backpropagate the loss to calculate the new gradients.<br>\n",
        "- Perform an optimization step.<br>\n",
        "<br>\n",
        "We perform these steps over and over until our model has converged or some other point has been reached (depending on the application)"
      ]
    },
    {
      "cell_type": "code",
      "execution_count": 156,
      "metadata": {
        "id": "H8Rqbgwyksj2",
        "outputId": "2dd9d4f5-fda5-4c6e-f649-8ac71f7c6afb",
        "colab": {
          "base_uri": "https://localhost:8080/"
        }
      },
      "outputs": [
        {
          "output_type": "stream",
          "name": "stdout",
          "text": [
            "loss: 8.152152440743521e-05\n"
          ]
        }
      ],
      "source": [
        "# Lets create an empty array to log the loss\n",
        "loss_logger = []\n",
        "\n",
        "# Lets perform 100 itterations of our dataset\n",
        "for i in range(1000):\n",
        "    # Perform a forward pass of our data\n",
        "    target_pred = linear(data)\n",
        "\n",
        "    # Calculate the loss\n",
        "    loss = loss_function(target_pred, target)\n",
        "\n",
        "    # .zero_grad sets the stored gradients to 0\n",
        "    # If we didn't do this they would be added to the\n",
        "    # Gradients from the previous step!\n",
        "    optimizer.zero_grad()\n",
        "\n",
        "    # Calculate the new gradients\n",
        "    loss.backward()\n",
        "\n",
        "    # Perform an optimization step!\n",
        "    optimizer.step()\n",
        "\n",
        "    loss_logger.append(loss.item())\n",
        "\n",
        "print(\"loss:\", loss.item())"
      ]
    },
    {
      "cell_type": "markdown",
      "metadata": {
        "id": "2CR30Cd7ksj2"
      },
      "source": [
        "Lets graph out the loss!"
      ]
    },
    {
      "cell_type": "code",
      "execution_count": 157,
      "metadata": {
        "id": "_artpqGCksj2",
        "outputId": "a19e1523-6d96-4af3-82ff-69ad4d15925c",
        "colab": {
          "base_uri": "https://localhost:8080/",
          "height": 448
        }
      },
      "outputs": [
        {
          "output_type": "execute_result",
          "data": {
            "text/plain": [
              "[<matplotlib.lines.Line2D at 0x7bd611890220>]"
            ]
          },
          "metadata": {},
          "execution_count": 157
        },
        {
          "output_type": "display_data",
          "data": {
            "text/plain": [
              "<Figure size 640x480 with 1 Axes>"
            ],
            "image/png": "[encoded data removed]"
          },
          "metadata": {}
        }
      ],
      "source": [
        "plt.plot(loss_logger)"
      ]
    },
    {
      "cell_type": "code",
      "execution_count": 158,
      "metadata": {
        "id": "NK_RvUGSksj2",
        "outputId": "2084616a-ae11-47e7-bab0-0437681febb0",
        "colab": {
          "base_uri": "https://localhost:8080/",
          "height": 467
        }
      },
      "outputs": [
        {
          "output_type": "execute_result",
          "data": {
            "text/plain": [
              "Text(0, 0.5, 'Ouputs')"
            ]
          },
          "metadata": {},
          "execution_count": 158
        },
        {
          "output_type": "display_data",
          "data": {
            "text/plain": [
              "<Figure size 640x480 with 1 Axes>"
            ],
            "image/png": "[encoded data removed]"
          },
          "metadata": {}
        }
      ],
      "source": [
        "# Plotting the first dimension of the input vs the output\n",
        "plt.scatter(data[:, 0], target_pred.detach())\n",
        "plt.scatter(data[:, 0], target, marker=\"x\")\n",
        "plt.legend([\"Predictions\", \"Ground Truth\"])\n",
        "plt.xlabel(\"Inputs\")\n",
        "plt.ylabel(\"Ouputs\")"
      ]
    },
    {
      "cell_type": "markdown",
      "metadata": {
        "id": "IFRpPZmzksj2"
      },
      "source": [
        "<h2>Wohoo! We trained our first Pytorch neural network!!<h2>"
      ]
    }
  ],
  "metadata": {
    "kernelspec": {
      "display_name": "Python 3",
      "language": "python",
      "name": "python3"
    },
    "language_info": {
      "codemirror_mode": {
        "name": "ipython",
        "version": 3
      },
      "file_extension": ".py",
      "mimetype": "text/x-python",
      "name": "python",
      "nbconvert_exporter": "python",
      "pygments_lexer": "ipython3",
      "version": "3.6.9"
    },
    "colab": {
      "provenance": []
    }
  },
  "nbformat": 4,
  "nbformat_minor": 0
}